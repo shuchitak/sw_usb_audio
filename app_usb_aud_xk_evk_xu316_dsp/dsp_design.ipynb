{
 "cells": [
  {
   "cell_type": "markdown",
   "id": "ccc61334-38ac-4c86-a86a-bd2975d5a60d",
   "metadata": {},
   "source": [
    "# sw_audio_dsp pipeline designer!\n",
    "\n",
    "You have an xcore and now you want DSP? In that case you are in the right place, this jupyter notebook will fulfill all of your DSP needs!\n",
    "\n",
    "Below you will find 3 cells which must be modified and executed in order to make the DSP pipeline of your dreams a reality.\n",
    "\n",
    "1. Immediately below this cell is the pipeline design cell. Here you must break the DSP pipeline down into threads and use the provided DSP stages to create a pipeline. Running this cell will product a diagram showing your pipeline. Make sure to capture each stage in your pipeline as a variable as it will be needed in the next step.\n",
    "2. The cell after this is the tuning cell. First time through this can be ignored, but once your pipeline is running on a connected device then this cell can be updated and executed to updated each pipeline stage live.\n",
    "3. The build and run stage. This final stage generates an application which uses your pipeline and uses xrun to get it running on a connected device. The application which is created will have the tuning parameters baked in.\n",
    "\n",
    "Note that every time the pipeline cell is changed, the app must be regenerated before the tuning stage will work correctly as the stage indices used for communication will have changed."
   ]
  },
  {
   "cell_type": "code",
   "execution_count": null,
   "id": "f3806bd0-99e0-42b6-a084-e9a2f17ba7dc",
   "metadata": {
    "scrolled": true
   },
   "outputs": [],
   "source": [
    "# Pipeline design stage\n",
    "\n",
    "from audio_dsp.design.pipeline import Pipeline\n",
    "from audio_dsp.stages.biquad import Biquad\n",
    "from audio_dsp.stages.cascaded_biquads import CascadedBiquads\n",
    "\n",
    "# 4 inputs\n",
    "p = Pipeline(4)\n",
    "\n",
    "with p.add_thread() as t:\n",
    "    butter = t.stage(CascadedBiquads, p.i[:2])\n",
    "with p.add_thread() as t:\n",
    "    notch = t.stage(Biquad, butter.o)\n",
    "\n",
    "\n",
    "p.set_outputs(notch.o)\n",
    "p.draw()\n"
   ]
  },
  {
   "cell_type": "code",
   "execution_count": null,
   "id": "89d245d6-b908-4815-ae22-fa10e40d65dc",
   "metadata": {},
   "outputs": [],
   "source": [
    "# Tuning stage\n",
    "\n",
    "butter.make_butterworth_highpass(14, 2000)\n",
    "notch.make_notch(4000, 5)\n",
    "\n",
    "\n",
    "from audio_dsp.design.pipeline import send_config_to_device\n",
    "send_config_to_device(p, \"host_cmd_map/build/xvf_host\")"
   ]
  },
  {
   "cell_type": "code",
   "execution_count": null,
   "id": "32492495-d82a-45ba-87e3-80b01de38981",
   "metadata": {
    "scrolled": true
   },
   "outputs": [],
   "source": [
    "# Build and run\n",
    "\n",
    "from audio_dsp.design.pipeline import generate_dsp_main\n",
    "from build_utils import build_and_try_run\n",
    "generate_dsp_main(p)\n",
    "build_and_try_run()"
   ]
  },
  {
   "cell_type": "code",
   "execution_count": null,
   "id": "ed5251c5-e789-406b-b9f2-6640df5ecdd1",
   "metadata": {},
   "outputs": [],
   "source": []
  },
  {
   "cell_type": "code",
   "execution_count": null,
   "id": "a84c5c49-0e9d-4c75-a1f5-23e73796fcee",
   "metadata": {},
   "outputs": [],
   "source": []
  },
  {
   "cell_type": "code",
   "execution_count": null,
   "id": "503e6fd1-a45e-46b0-9cc8-b53f627311ef",
   "metadata": {},
   "outputs": [],
   "source": []
  }
 ],
 "metadata": {
  "kernelspec": {
   "display_name": "Python 3 (ipykernel)",
   "language": "python",
   "name": "python3"
  },
  "language_info": {
   "codemirror_mode": {
    "name": "ipython",
    "version": 3
   },
   "file_extension": ".py",
   "mimetype": "text/x-python",
   "name": "python",
   "nbconvert_exporter": "python",
   "pygments_lexer": "ipython3",
   "version": "3.10.8"
  }
 },
 "nbformat": 4,
 "nbformat_minor": 5
}
