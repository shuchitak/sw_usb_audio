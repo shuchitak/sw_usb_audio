{
 "cells": [
  {
   "cell_type": "code",
   "execution_count": null,
   "id": "f3806bd0-99e0-42b6-a084-e9a2f17ba7dc",
   "metadata": {
    "scrolled": true
   },
   "outputs": [],
   "source": [
    "from audio_dsp.design.pipeline import Pipeline\n",
    "from audio_dsp.stages.parametric_eq import ParametricEq\n",
    "from audio_dsp.stages.agc import AGC\n",
    "from audio_dsp.stages.biquad_module import BiquadModule\n",
    "\n",
    "# 4 inputs\n",
    "p = Pipeline(4)\n",
    "\n",
    "with p.add_thread() as t:\n",
    "    [pe0, pe1] = t.stages((BiquadModule, AGC), p.i)\n",
    "  \n",
    "with p.add_thread() as t:\n",
    "    agc = t.stage(AGC, pe1.o)\n",
    "    agc1 = t.stage(AGC, agc.o)\n",
    "\n",
    "p.set_outputs(agc1.o)\n",
    "p.draw()\n"
   ]
  },
  {
   "cell_type": "code",
   "execution_count": null,
   "id": "32492495-d82a-45ba-87e3-80b01de38981",
   "metadata": {
    "scrolled": true
   },
   "outputs": [],
   "source": [
    "import time\n",
    "from audio_dsp.design.pipeline import generate_dsp_main\n",
    "generate_dsp_main(p)\n",
    "# !cmake --build build -j\n",
    "#!xrun bin/2AMi2o2xxxxxx/app_usb_aud_xk_evk_xu316_dsp_2AMi2o2xxxxxx.xe\n",
    "time.sleep(5)"
   ]
  },
  {
   "cell_type": "code",
   "execution_count": null,
   "id": "89d245d6-b908-4815-ae22-fa10e40d65dc",
   "metadata": {},
   "outputs": [],
   "source": [
    "# do tuning\n",
    "#pe0[\"filter_coeffs\"] = list(range(10))\n",
    "agc1[\"gain\"] = str(1.0)\n",
    "\n",
    "from audio_dsp.design.pipeline import send_config_to_device\n",
    "send_config_to_device(p, \"/Users/shuchitak/sandboxes/host_xvf_control/build/xvf_host\")"
   ]
  },
  {
   "cell_type": "code",
   "execution_count": null,
   "id": "b54044f1-f83f-4492-81b0-77c5c63f79fe",
   "metadata": {},
   "outputs": [],
   "source": [
    "\n"
   ]
  },
  {
   "cell_type": "code",
   "execution_count": null,
   "id": "ed5251c5-e789-406b-b9f2-6640df5ecdd1",
   "metadata": {},
   "outputs": [],
   "source": []
  },
  {
   "cell_type": "code",
   "execution_count": null,
   "id": "a84c5c49-0e9d-4c75-a1f5-23e73796fcee",
   "metadata": {},
   "outputs": [],
   "source": []
  },
  {
   "cell_type": "code",
   "execution_count": null,
   "id": "503e6fd1-a45e-46b0-9cc8-b53f627311ef",
   "metadata": {},
   "outputs": [],
   "source": []
  }
 ],
 "metadata": {
  "kernelspec": {
   "display_name": "Python 3 (ipykernel)",
   "language": "python",
   "name": "python3"
  },
  "language_info": {
   "codemirror_mode": {
    "name": "ipython",
    "version": 3
   },
   "file_extension": ".py",
   "mimetype": "text/x-python",
   "name": "python",
   "nbconvert_exporter": "python",
   "pygments_lexer": "ipython3",
   "version": "3.10.8"
  }
 },
 "nbformat": 4,
 "nbformat_minor": 5
}
